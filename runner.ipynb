{
 "cells": [
  {
   "cell_type": "code",
   "execution_count": 1,
   "metadata": {},
   "outputs": [],
   "source": [
    "from pathlib import Path\n",
    "from e4e.align import xy_auto_align, t_align\n",
    "from tqdm.notebook import tqdm"
   ]
  },
  {
   "cell_type": "code",
   "execution_count": 2,
   "metadata": {},
   "outputs": [],
   "source": [
    "deployment_root_path = Path('G:\\\\Shared drives\\\\E4E_FishSense\\\\Test Data\\\\2022-05 Reef Deployment\\\\usa_florida')\n",
    "target_path = Path('Z:\\\\data\\\\2022-05 Reef Deployment outputs')"
   ]
  },
  {
   "cell_type": "code",
   "execution_count": 3,
   "metadata": {},
   "outputs": [],
   "source": [
    "output_dirs = ['_'.join(bag_file.relative_to(deployment_root_path).with_suffix('').parts) for bag_file in deployment_root_path.glob('**\\\\*.bag')]\n",
    "label_dirs = ['_'.join(bag_file.relative_to(deployment_root_path).with_suffix('').parts) + '_label' for bag_file in deployment_root_path.glob('**\\\\*.bag')]"
   ]
  },
  {
   "cell_type": "code",
   "execution_count": 4,
   "metadata": {},
   "outputs": [
    {
     "data": {
      "application/vnd.jupyter.widget-view+json": {
       "model_id": "6137c0fef97b4990b152c050d284d1ce",
       "version_major": 2,
       "version_minor": 0
      },
      "text/plain": [
       "  0%|          | 0/46 [00:00<?, ?it/s]"
      ]
     },
     "metadata": {},
     "output_type": "display_data"
    },
    {
     "data": {
      "application/vnd.jupyter.widget-view+json": {
       "model_id": "b4d4db608960410098a5aba0782ee3a2",
       "version_major": 2,
       "version_minor": 0
      },
      "text/plain": [
       "  0%|          | 0/46 [00:00<?, ?it/s]"
      ]
     },
     "metadata": {},
     "output_type": "display_data"
    }
   ],
   "source": [
    "for dir in tqdm(output_dirs):\n",
    "    target_path.joinpath(dir).mkdir(parents=True, exist_ok=True)\n",
    "for dir in tqdm(label_dirs):\n",
    "    target_path.joinpath(dir).mkdir(parents=True, exist_ok=True)"
   ]
  },
  {
   "cell_type": "code",
   "execution_count": 5,
   "metadata": {},
   "outputs": [
    {
     "data": {
      "application/vnd.jupyter.widget-view+json": {
       "model_id": "ec98a1619c7b425c9a6611f2a0e3cecd",
       "version_major": 2,
       "version_minor": 0
      },
      "text/plain": [
       "0it [00:00, ?it/s]"
      ]
     },
     "metadata": {},
     "output_type": "display_data"
    },
    {
     "name": "stdout",
     "output_type": "stream",
     "text": [
      "G:/Shared drives/E4E_FishSense/Test Data/2022-05 Reef Deployment/usa_florida/2022-05-20/carysfort/FS003/260.bag\n"
     ]
    },
    {
     "name": "stderr",
     "output_type": "stream",
     "text": [
      "  0%|          | 0/5.750603 [00:00<?, ?it/s]\n"
     ]
    },
    {
     "name": "stdout",
     "output_type": "stream",
     "text": [
      "G:/Shared drives/E4E_FishSense/Test Data/2022-05 Reef Deployment/usa_florida/2022-05-20/carysfort/FS003/270.bag\n"
     ]
    },
    {
     "name": "stderr",
     "output_type": "stream",
     "text": [
      "  0%|          | 0/3809.987421 [00:00<?, ?it/s]\n"
     ]
    },
    {
     "name": "stdout",
     "output_type": "stream",
     "text": [
      "G:/Shared drives/E4E_FishSense/Test Data/2022-05 Reef Deployment/usa_florida/2022-05-20/carysfort/FS003/280.bag\n"
     ]
    },
    {
     "name": "stderr",
     "output_type": "stream",
     "text": [
      "  0%|          | 0/4.871606 [00:00<?, ?it/s]\n"
     ]
    },
    {
     "name": "stdout",
     "output_type": "stream",
     "text": [
      "G:/Shared drives/E4E_FishSense/Test Data/2022-05 Reef Deployment/usa_florida/2022-05-20/carysfort/FS003/281.bag\n"
     ]
    },
    {
     "name": "stderr",
     "output_type": "stream",
     "text": [
      "  0%|          | 0/3696.704684 [00:00<?, ?it/s]\n"
     ]
    },
    {
     "name": "stdout",
     "output_type": "stream",
     "text": [
      "G:/Shared drives/E4E_FishSense/Test Data/2022-05 Reef Deployment/usa_florida/2022-05-20/carysfort/fs002/190.bag\n"
     ]
    },
    {
     "name": "stderr",
     "output_type": "stream",
     "text": [
      "  0%|          | 0/20.994346 [00:00<?, ?it/s]\n"
     ]
    },
    {
     "name": "stdout",
     "output_type": "stream",
     "text": [
      "G:/Shared drives/E4E_FishSense/Test Data/2022-05 Reef Deployment/usa_florida/2022-05-20/carysfort/fs002/200.bag\n"
     ]
    },
    {
     "name": "stderr",
     "output_type": "stream",
     "text": [
      "  0%|          | 0/162.184757 [00:00<?, ?it/s]\n"
     ]
    },
    {
     "name": "stdout",
     "output_type": "stream",
     "text": [
      "G:/Shared drives/E4E_FishSense/Test Data/2022-05 Reef Deployment/usa_florida/2022-05-20/carysfort/fs002/340.bag\n",
      "G:/Shared drives/E4E_FishSense/Test Data/2022-05 Reef Deployment/usa_florida/2022-05-20/carysfort/fs002/350.bag\n"
     ]
    },
    {
     "name": "stderr",
     "output_type": "stream",
     "text": [
      "  0%|          | 0/2.279053 [00:00<?, ?it/s]"
     ]
    }
   ],
   "source": [
    "successful_files = []\n",
    "for idx, bag_file in tqdm(enumerate(deployment_root_path.glob('**\\\\*.bag'))):\n",
    "    output_dir = Path(output_dirs[idx])\n",
    "    label_dir = Path(label_dirs[idx])\n",
    "    print(bag_file.as_posix())\n",
    "    try:\n",
    "        xy_auto_align(bag_file=bag_file, output_dir=output_dir)\n",
    "        t_align(output_dir=output_dir, input_dir=output_dir, label_dir=label_dir)\n",
    "    except:\n",
    "        continue\n",
    "    print(\"done\")\n",
    "    successful_files.append(bag_file)"
   ]
  }
 ],
 "metadata": {
  "kernelspec": {
   "display_name": "Python 3.9.13 ('.venv': venv)",
   "language": "python",
   "name": "python3"
  },
  "language_info": {
   "codemirror_mode": {
    "name": "ipython",
    "version": 3
   },
   "file_extension": ".py",
   "mimetype": "text/x-python",
   "name": "python",
   "nbconvert_exporter": "python",
   "pygments_lexer": "ipython3",
   "version": "3.9.13"
  },
  "orig_nbformat": 4,
  "vscode": {
   "interpreter": {
    "hash": "c8453234d303e3532827cca400abaab817d501a7be98cb39ebd1b64247513f9e"
   }
  }
 },
 "nbformat": 4,
 "nbformat_minor": 2
}

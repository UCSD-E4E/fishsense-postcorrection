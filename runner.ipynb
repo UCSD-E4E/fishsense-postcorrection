{
 "cells": [
  {
   "cell_type": "code",
   "execution_count": 1,
   "metadata": {},
   "outputs": [],
   "source": [
    "from pathlib import Path\n",
    "import shutil\n",
    "from typing import Dict\n",
    "from tqdm.notebook import tqdm\n",
    "import numpy as np"
   ]
  },
  {
   "cell_type": "code",
   "execution_count": 2,
   "metadata": {},
   "outputs": [],
   "source": [
    "input_dir = Path(\"D://2022-05-20_carysfort_FS003_260\")\n",
    "output_dir = Path(\"D://2022-05-20_carysfort_FS003_260_data\")\n",
    "label_dir = Path(\"D://2022-05-20_carysfort_FS003_260_labels\")\n",
    "max_permissible_difference_s = 0.1"
   ]
  },
  {
   "cell_type": "code",
   "execution_count": 3,
   "metadata": {},
   "outputs": [
    {
     "data": {
      "application/vnd.jupyter.widget-view+json": {
       "model_id": "8b81d31ddd30471d996aba0409428aed",
       "version_major": 2,
       "version_minor": 0
      },
      "text/plain": [
       "0it [00:00, ?it/s]"
      ]
     },
     "metadata": {},
     "output_type": "display_data"
    }
   ],
   "source": [
    "color_frame_t: Dict[float, Path] = {}\n",
    "for color_frame in tqdm(input_dir.glob('*_Color_t[0-9.]*')):\n",
    "    fname = color_frame.stem\n",
    "    t = float(fname[fname.find('_t') + 2:])\n",
    "    color_frame_t[t] = color_frame"
   ]
  },
  {
   "cell_type": "code",
   "execution_count": 4,
   "metadata": {},
   "outputs": [],
   "source": [
    "color_times = list(color_frame_t.keys())"
   ]
  },
  {
   "cell_type": "code",
   "execution_count": 5,
   "metadata": {},
   "outputs": [
    {
     "data": {
      "application/vnd.jupyter.widget-view+json": {
       "model_id": "751ad23cb16946b68dbbaffdacc4ded3",
       "version_major": 2,
       "version_minor": 0
      },
      "text/plain": [
       "0it [00:00, ?it/s]"
      ]
     },
     "metadata": {},
     "output_type": "display_data"
    }
   ],
   "source": [
    "depth_frame_t: Dict[float, Path] = {}\n",
    "for depth_frame in tqdm(input_dir.glob('*_Depth_t[0-9.]*')):\n",
    "    fname = depth_frame.stem\n",
    "    t = float(fname[fname.find('_t') + 2:])\n",
    "    depth_frame_t[t] = depth_frame"
   ]
  },
  {
   "cell_type": "code",
   "execution_count": 6,
   "metadata": {},
   "outputs": [],
   "source": [
    "depth_times = list(depth_frame_t.keys())"
   ]
  },
  {
   "cell_type": "code",
   "execution_count": 7,
   "metadata": {},
   "outputs": [
    {
     "data": {
      "application/vnd.jupyter.widget-view+json": {
       "model_id": "416b147de89a4b7d8c028e8ec06fe730",
       "version_major": 2,
       "version_minor": 0
      },
      "text/plain": [
       "  0%|          | 0/77 [00:00<?, ?it/s]"
      ]
     },
     "metadata": {},
     "output_type": "display_data"
    }
   ],
   "source": [
    "rgb_idx = 0\n",
    "depth_idx = 0\n",
    "frame_idx = 0\n",
    "with tqdm(total=len(depth_times)) as pbar:\n",
    "    while rgb_idx < len(color_times) and depth_idx < len(depth_times):\n",
    "        initial_difference_s = color_times[rgb_idx] - depth_times[depth_idx]\n",
    "        if initial_difference_s < -1 * max_permissible_difference_s:\n",
    "            rgb_idx += 1\n",
    "        elif initial_difference_s >  max_permissible_difference_s:\n",
    "            depth_idx += 1\n",
    "            pbar.update(1)\n",
    "        else:\n",
    "            depth_time = depth_times[depth_idx]\n",
    "            color_time = color_times[rgb_idx]\n",
    "\n",
    "            depth_files = input_dir.glob(f\"*Depth*_t{depth_time:.9f}*\")\n",
    "            color_files = input_dir.glob(f\"*Color*_t{color_time:.9f}*\")\n",
    "\n",
    "            frame_folder = output_dir.joinpath(f'frame_{frame_idx:06d}')\n",
    "            frame_folder.mkdir(exist_ok=True, parents=True)\n",
    "            for depth_file in depth_files:\n",
    "                shutil.move(depth_file, frame_folder.joinpath(depth_file.name))\n",
    "            for color_file in color_files:\n",
    "                if color_file.suffix.endswith('png'):\n",
    "                    shutil.copy(color_file, label_dir.joinpath(color_file.name))\n",
    "                shutil.move(color_file, frame_folder.joinpath(color_file.name))\n",
    "            rgb_idx += 1\n",
    "            depth_idx += 1\n",
    "            frame_idx += 1\n",
    "            pbar.update(1)\n"
   ]
  },
  {
   "cell_type": "code",
   "execution_count": 8,
   "metadata": {},
   "outputs": [],
   "source": [
    "if False:\n",
    "    for frame_folder in output_dir.glob('frame*'):\n",
    "        for frame_file in frame_folder.glob('*'):\n",
    "            shutil.move(frame_file, input_dir.joinpath(frame_file.name))\n",
    "        shutil.rmtree(frame_folder)"
   ]
  },
  {
   "cell_type": "code",
   "execution_count": null,
   "metadata": {},
   "outputs": [],
   "source": []
  }
 ],
 "metadata": {
  "kernelspec": {
   "display_name": "Python 3.9.13 ('.venv': venv)",
   "language": "python",
   "name": "python3"
  },
  "language_info": {
   "codemirror_mode": {
    "name": "ipython",
    "version": 3
   },
   "file_extension": ".py",
   "mimetype": "text/x-python",
   "name": "python",
   "nbconvert_exporter": "python",
   "pygments_lexer": "ipython3",
   "version": "3.9.13"
  },
  "orig_nbformat": 4,
  "vscode": {
   "interpreter": {
    "hash": "c8453234d303e3532827cca400abaab817d501a7be98cb39ebd1b64247513f9e"
   }
  }
 },
 "nbformat": 4,
 "nbformat_minor": 2
}

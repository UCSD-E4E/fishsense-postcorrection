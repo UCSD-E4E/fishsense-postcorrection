{
 "cells": [
  {
   "cell_type": "code",
   "execution_count": 1,
   "metadata": {},
   "outputs": [],
   "source": [
    "from pathlib import Path\n",
    "from typing import Dict, List\n",
    "\n",
    "import yaml"
   ]
  },
  {
   "cell_type": "code",
   "execution_count": 2,
   "metadata": {},
   "outputs": [],
   "source": [
    "progress_file = Path('/', 'home', 'nthui', 'ntlhui-cse-ubuntu', 'fishsense', 'progress.yaml')\n",
    "data_root = Path('/home/nthui/google_drive/Test Data/2022-05 Reef Deployment/usa_florida')"
   ]
  },
  {
   "cell_type": "code",
   "execution_count": 3,
   "metadata": {},
   "outputs": [],
   "source": [
    "with open(progress_file, 'r', encoding='ascii') as handle:\n",
    "    data: Dict = yaml.safe_load(handle)"
   ]
  },
  {
   "cell_type": "code",
   "execution_count": 4,
   "metadata": {},
   "outputs": [],
   "source": [
    "failed_files: List[str] = [filename for filename, info in data.items() if info['status'] == False]"
   ]
  },
  {
   "cell_type": "code",
   "execution_count": 5,
   "metadata": {},
   "outputs": [],
   "source": [
    "date_dirs = [path for path in data_root.iterdir() if path.is_dir()]\n"
   ]
  },
  {
   "cell_type": "code",
   "execution_count": 60,
   "metadata": {},
   "outputs": [],
   "source": [
    "file_map: Dict[str, Path] = {}\n",
    "for failed_file in failed_files:\n",
    "    date_dir = [date_dir for date_dir in date_dirs if failed_file.startswith(date_dir.name)][0]\n",
    "    if date_dir.name == 'archive':\n",
    "        continue\n",
    "    next_name = failed_file[failed_file.find(date_dir.name) + len(date_dir.name) + 1:]\n",
    "    location_dirs = [path for path in date_dir.iterdir() if path.is_dir()]\n",
    "    location_dir = [location_dir for location_dir in location_dirs if next_name.startswith(location_dir.name)][0]\n",
    "    cam_name = next_name[next_name.find(location_dir.name) + len(location_dir.name)+1:]\n",
    "    cam_dirs = [path for path in location_dir.iterdir() if path.is_dir()]\n",
    "    cam_dir = [cam_dir for cam_dir in cam_dirs if cam_name.startswith(cam_dir.name)][0]\n",
    "    bag_file_name = cam_name[cam_name.find(cam_dir.name) + len(cam_dir.name) + 1:]\n",
    "    bag_files = [path for path in cam_dir.iterdir() if path.suffix == '.bag']\n",
    "    path = [bag_file for bag_file in bag_files if bag_file.name == bag_file_name][0]\n",
    "    file_map[failed_file] = path"
   ]
  },
  {
   "cell_type": "code",
   "execution_count": 62,
   "metadata": {},
   "outputs": [],
   "source": [
    "file_sizes = {filename:realpath.stat().st_size for filename, realpath in file_map.items()}"
   ]
  },
  {
   "cell_type": "code",
   "execution_count": 64,
   "metadata": {},
   "outputs": [
    {
     "data": {
      "text/plain": [
       "{'2022-05-20_carysfort_fs001_160.bag': 0,\n",
       " '2022-05-21_carysfort_fs-003_291.bag': 40243,\n",
       " '2022-05-20_carysfort_fs002_340.bag': 246219222,\n",
       " '2022-05-20_carysfort_fs002_360.bag': 33780924416,\n",
       " '2022-05-20_carysfort_FS003_270.bag': 99640521298,\n",
       " '2022-05-20_carysfort_FS003_281.bag': 99860877957,\n",
       " '2022-05-21_carysfort_fs-001_190.bag': 108025868493,\n",
       " '2022-05-21_carysfort_fs-002_390.bag': 111002002135,\n",
       " '2022_06_28_Carysfort South Mooring 4 (Dive #2)_fs003_390.bag': 112262333161,\n",
       " '2022-07-15_Carysfort North Mooring 5 (Dive #1)_fs003_420.bag': 115854344360,\n",
       " '2022-07-15_Carsfort South Mooring 2 (Dive #2)_fs002_560.bag': 116402000328,\n",
       " '2022-07-15_Carysfort North Mooring 5 (Dive #1)_fs002_550.bag': 116733913451,\n",
       " '2022_06_28_Carysfort South Mooring 1 (Dive #3)_fs003_400.bag': 116858372682,\n",
       " '2022_06_28_Carysfort South Mooring 4 (Dive #2)_fs002_460.bag': 117033551032,\n",
       " '2022_06_28_Carysfort North Mooring 1 (Dive #1)_fs002_450.bag': 117863327849,\n",
       " '2022-07-15_Carysfort South Mooring 3 (Dive #3)_fs002_580.bag': 118160204339,\n",
       " '2022-07-15_Carsfort South Mooring 2 (Dive #2)_fs003_430.bag': 119810528248,\n",
       " '2022-05-21_carysfort_fs-001_180.bag': 119812376067,\n",
       " '2022-05-21_carysfort_fs-002_380.bag': 120100037272,\n",
       " '2022_06_28_Carysfort South Mooring 1 (Dive #3)_fs002_470.bag': 122391137847,\n",
       " '2022_06_28_Carysfort North Mooring 1 (Dive #1)_fs003_380.bag': 123931749383}"
      ]
     },
     "execution_count": 64,
     "metadata": {},
     "output_type": "execute_result"
    }
   ],
   "source": [
    "{k:v for k, v in sorted(file_sizes.items(), key=lambda item: item[1])}"
   ]
  },
  {
   "cell_type": "code",
   "execution_count": null,
   "metadata": {},
   "outputs": [],
   "source": []
  }
 ],
 "metadata": {
  "kernelspec": {
   "display_name": "Python 3.8.10 ('.venv': venv)",
   "language": "python",
   "name": "python3"
  },
  "language_info": {
   "codemirror_mode": {
    "name": "ipython",
    "version": 3
   },
   "file_extension": ".py",
   "mimetype": "text/x-python",
   "name": "python",
   "nbconvert_exporter": "python",
   "pygments_lexer": "ipython3",
   "version": "3.8.10"
  },
  "orig_nbformat": 4,
  "vscode": {
   "interpreter": {
    "hash": "640ed44ad85e6bc5222454e35d8609498629fc57d1fdbf4a88ba899b3ee53b30"
   }
  }
 },
 "nbformat": 4,
 "nbformat_minor": 2
}
